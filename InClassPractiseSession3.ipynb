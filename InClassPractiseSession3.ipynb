{
  "nbformat": 4,
  "nbformat_minor": 0,
  "metadata": {
    "colab": {
      "name": "InClassPractiseSession3.ipynb",
      "provenance": [],
      "collapsed_sections": []
    },
    "kernelspec": {
      "display_name": "Python 3",
      "name": "python3"
    },
    "language_info": {
      "name": "python"
    }
  },
  "cells": [
    {
      "cell_type": "markdown",
      "metadata": {
        "id": "GvYSQCnLELKE"
      },
      "source": [
        "In Class Practise Session III\n",
        "\n",
        "1. Palindrome number\n"
      ]
    },
    {
      "cell_type": "code",
      "metadata": {
        "colab": {
          "base_uri": "https://localhost:8080/"
        },
        "id": "RBjZGUv9DXOO",
        "outputId": "ef0b0ef2-120f-41f5-9d1a-e37754433940"
      },
      "source": [
        "n = int(input(\"Enter any number: \"))\n",
        "k = n\n",
        "rev = 0\n",
        "while (n!=0):\n",
        "  d= int(n%10)\n",
        "  n = int(n/10)\n",
        "  rev = int((rev*10)+d)\n",
        "if (rev == k):\n",
        "  print (k,\" is a palindrome number\")\n",
        "else:\n",
        "  print (k,\" is not a palindrome number\")"
      ],
      "execution_count": null,
      "outputs": [
        {
          "name": "stdout",
          "output_type": "stream",
          "text": [
            "Enter any number: 45677654\n",
            "45677654  is a palindrome number\n"
          ]
        }
      ]
    },
    {
      "cell_type": "markdown",
      "metadata": {
        "id": "4hwU3DR1O6o9"
      },
      "source": [
        "2. Multiplication Table of a given number"
      ]
    },
    {
      "cell_type": "code",
      "metadata": {
        "colab": {
          "base_uri": "https://localhost:8080/"
        },
        "id": "DDDaRFW1PLF7",
        "outputId": "8cc66460-1fa7-479f-efad-9d5cf680cf77"
      },
      "source": [
        "n = int(input(\"Enter any number: \"))\n",
        "count = 1\n",
        "print (\"The multiplication table of \",n,\" is given below:\")\n",
        "while(count<=10):\n",
        "  p = int(n*count)\n",
        "  print (n,\"X\",count,\"=\",p)\n",
        "  count=count+1\n"
      ],
      "execution_count": null,
      "outputs": [
        {
          "name": "stdout",
          "output_type": "stream",
          "text": [
            "Enter any number: 39\n",
            "The multiplication table of  39  is given below:\n",
            "39 X 1 = 39\n",
            "39 X 2 = 78\n",
            "39 X 3 = 117\n",
            "39 X 4 = 156\n",
            "39 X 5 = 195\n",
            "39 X 6 = 234\n",
            "39 X 7 = 273\n",
            "39 X 8 = 312\n",
            "39 X 9 = 351\n",
            "39 X 10 = 390\n"
          ]
        }
      ]
    },
    {
      "cell_type": "markdown",
      "metadata": {
        "id": "1mfqlVj6XTmu"
      },
      "source": [
        "3. Take 2 list from user. Create 3rd list with odd numbers from first list and even numbers from second list"
      ]
    },
    {
      "cell_type": "code",
      "metadata": {
        "colab": {
          "base_uri": "https://localhost:8080/"
        },
        "id": "4S0jSxDwXega",
        "outputId": "be95dde2-8d91-4476-b453-951d295df246"
      },
      "source": [
        "a = int(input(\"Enter range of first list: \"))\n",
        "b = int(input(\"Enter range of second list: \"))\n",
        "list1 = []\n",
        "list2 = []\n",
        "list3 = []\n",
        "print (\"Enter values of List 1\")\n",
        "for i in range (0,a):\n",
        "  num = int(input())\n",
        "  list1.append(num)\n",
        "print (\"Enter values of List 2\")\n",
        "for i in range (0,b):\n",
        "  num = int(input())\n",
        "  list2.append(num)\n",
        "for i in range (0,a):\n",
        "  if (list1[i]%2!=0):\n",
        "    list3.append(list1[i])\n",
        "for i in range (0,b):\n",
        "  if (list2[i]%2==0):\n",
        "    list3.append(list2[i])\n",
        "print(\"The values of list 3 are:\")\n",
        "print(list3)"
      ],
      "execution_count": null,
      "outputs": [
        {
          "name": "stdout",
          "output_type": "stream",
          "text": [
            "Enter range of first list: 4\n",
            "Enter range of second list: 5\n",
            "Enter values of List 1\n",
            "35\n",
            "46\n",
            "57\n",
            "58\n",
            "Enter values of List 2\n",
            "89\n",
            "33\n",
            "40\n",
            "77\n",
            "44\n",
            "The values of list 3 are:\n",
            "[35, 57, 40, 44]\n"
          ]
        }
      ]
    },
    {
      "cell_type": "markdown",
      "metadata": {
        "id": "hyTSoUBfeOFx"
      },
      "source": [
        "4. Take 2 matrix(2x2) from user and Perform matrix multiplication"
      ]
    },
    {
      "cell_type": "code",
      "metadata": {
        "colab": {
          "base_uri": "https://localhost:8080/"
        },
        "id": "6kJFA3d6eaxf",
        "outputId": "97afb130-1d75-43ee-994a-c75bea9949f8"
      },
      "source": [
        "def multiply(x,y):\n",
        "  prod = (x*y)\n",
        "  return (prod)\n",
        "a=[]\n",
        "b = []\n",
        "print (\"Enter values of first 2X2 matrix row-wise\")\n",
        "for i in range (0,2):\n",
        "  k=[]\n",
        "  for j in range (0,2):\n",
        "    n = int (input())\n",
        "    k.append(n)\n",
        "  a.append(k)\n",
        "print (\"Enter values of second 2X2 matrix row-wise\")\n",
        "x=[]\n",
        "for i in range (0,2):\n",
        "  k=[]\n",
        "  for j in range (0,2):\n",
        "    n = int (input())\n",
        "    k.append(n)\n",
        "  b.append(k)\n",
        "for i in range (0,2):\n",
        "  k=[]\n",
        "  for j in range (0,2):\n",
        "    sum=0\n",
        "    for c in range (0,2):\n",
        "      sum = sum + multiply(a[i][c],b[c][j])\n",
        "    k.append(sum)\n",
        "  x.append(k)\n",
        "  #print (k)\n",
        "\n",
        "print(x)"
      ],
      "execution_count": 3,
      "outputs": [
        {
          "output_type": "stream",
          "name": "stdout",
          "text": [
            "Enter values of first 2X2 matrix row-wise\n",
            "2\n",
            "45\n",
            "12\n",
            "43\n",
            "Enter values of second 2X2 matrix row-wise\n",
            "23\n",
            "20\n",
            "10\n",
            "45\n",
            "[[496, 2065], [706, 2175]]\n"
          ]
        }
      ]
    }
  ]
}